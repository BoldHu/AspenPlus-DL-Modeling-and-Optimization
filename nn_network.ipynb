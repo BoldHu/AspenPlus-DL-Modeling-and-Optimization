{
 "cells": [
  {
   "cell_type": "code",
   "execution_count": 17,
   "metadata": {},
   "outputs": [],
   "source": [
    "import torch\n",
    "import torch.nn as nn\n",
    "import torch.nn.functional as F\n",
    "import torch.optim as optim\n",
    "\n",
    "import numpy as np\n",
    "import random\n",
    "import pandas as pd\n",
    "\n",
    "from sklearn.model_selection import train_test_split\n",
    "from sklearn.metrics import accuracy_score, precision_score, recall_score, f1_score, confusion_matrix\n",
    "from sklearn.preprocessing import StandardScaler"
   ]
  },
  {
   "cell_type": "code",
   "execution_count": 18,
   "metadata": {},
   "outputs": [],
   "source": [
    "# read the data\n",
    "df = pd.read_csv('data/result.csv')"
   ]
  },
  {
   "cell_type": "code",
   "execution_count": 19,
   "metadata": {},
   "outputs": [
    {
     "name": "stdout",
     "output_type": "stream",
     "text": [
      "(500, 10) (500,)\n",
      "   SEC1 Temperature   SEC1 Pressure   SEC2 Temperature   SEC2 Pressure  \\\n",
      "0               498           0.538                472           0.602   \n",
      "1               570           0.108                579           0.228   \n",
      "2               565           0.666                524           0.046   \n",
      "3               552           0.812                582           0.779   \n",
      "4               503           0.902                504           0.371   \n",
      "\n",
      "    SEC3 Temperature   SEC3 Pressure   SEC4 Temperature   SEC4 Pressure  \\\n",
      "0                566           0.478                577           0.631   \n",
      "1                499           0.091                538           0.212   \n",
      "2                588           0.323                518           0.333   \n",
      "3                470           0.304                571           0.362   \n",
      "4                575           0.930                574           0.928   \n",
      "\n",
      "    Flow Rate   split ratio  \n",
      "0        1089         0.455  \n",
      "1         906         0.467  \n",
      "2        1039         0.559  \n",
      "3        1064         0.564  \n",
      "4        1014         0.500  \n",
      "0    0.706004\n",
      "1    0.671801\n",
      "2    0.689134\n",
      "3    0.697057\n",
      "4    0.701919\n",
      "Name: aromatics yield, dtype: float64\n"
     ]
    }
   ],
   "source": [
    "# prepare the data\n",
    "X = df.iloc[:, :-1]\n",
    "y = df.iloc[:, -1]\n",
    "print(X.shape, y.shape)\n",
    "print(X.head())\n",
    "print(y.head())"
   ]
  },
  {
   "cell_type": "code",
   "execution_count": 20,
   "metadata": {},
   "outputs": [],
   "source": [
    "# split the data\n",
    "X_train, X_test, y_train, y_test = train_test_split(X, y, test_size=0.20, random_state=42)"
   ]
  },
  {
   "cell_type": "code",
   "execution_count": 21,
   "metadata": {},
   "outputs": [
    {
     "name": "stdout",
     "output_type": "stream",
     "text": [
      "(400, 10) (100, 10)\n",
      "[[ 0.70254476 -1.11875595 -0.43043274  0.85139186 -0.10038016  0.8434679\n",
      "  -1.70495811  1.50729325 -1.09714496  0.98728198]\n",
      " [ 1.47238411  1.36585518 -1.31967553 -0.40116232 -1.33287865  0.52713449\n",
      "  -1.16052571 -0.79547864  0.25986798 -0.7911467 ]\n",
      " [ 0.6494524  -1.28483959 -1.16275033  0.40556749  0.03656412  0.51307522\n",
      "  -0.15332577  0.63244105 -0.21508655  0.44528467]\n",
      " [-0.43894116 -0.17540092 -0.11658235  0.92923421 -1.41504522 -1.06859185\n",
      "   0.41832825  0.74640647 -1.2158836  -1.33314401]\n",
      " [ 1.47238411 -0.63379175 -0.82274574  1.5236667  -0.53860184 -1.24784745\n",
      "  -0.94275275  0.55869872 -1.16499561 -0.94358344]]\n",
      "[[-1.66006563  0.22652147  1.24343604  0.14019584  1.54295118  1.58860884\n",
      "  -0.83386627 -0.48710162  0.76874783 -1.36701884]\n",
      " [ 1.10073753  0.57861877 -1.03197933 -0.2207096  -0.0729913   0.85401235\n",
      "   1.0444255   0.50841985  0.2937933   0.56384658]\n",
      " [-1.23532668  1.09347803 -0.27350754 -0.66299568  0.25567497 -0.26018423\n",
      "   0.49999311 -0.59436319 -0.99536899 -0.77420928]\n",
      " [-0.04074839 -1.06560919 -1.13659613  0.96107881  0.94039635  0.81183456\n",
      "  -1.70495811  0.74975839  1.61688092  1.17359355]\n",
      " [ 1.41929174  0.50222029 -0.06427395  1.40690318  0.9130075   1.25470134\n",
      "  -0.64331493 -0.10163034  0.81963582  0.22509826]]\n"
     ]
    }
   ],
   "source": [
    "# scale the data\n",
    "scaler = StandardScaler()\n",
    "X_train = scaler.fit_transform(X_train)\n",
    "X_test = scaler.transform(X_test)\n",
    "# y_train = scaler.fit_transform(y_train.values.reshape(-1, 1))\n",
    "# y_test = scaler.transform(y_test.values.reshape(-1, 1))\n",
    "# y_train = y_train.reshape(-1)\n",
    "# y_test = y_test.reshape(-1)\n",
    "y_train = y_train\n",
    "y_test = y_test\n",
    "print(X_train.shape, X_test.shape)\n",
    "print(X_train[:5])\n",
    "print(X_test[:5])"
   ]
  },
  {
   "cell_type": "code",
   "execution_count": 22,
   "metadata": {},
   "outputs": [],
   "source": [
    "# Convert to PyTorch tensors\n",
    "X_train = torch.tensor(X_train, dtype=torch.float32)\n",
    "y_train = torch.tensor(y_train.values, dtype=torch.float32)\n",
    "X_test = torch.tensor(X_test, dtype=torch.float32)\n",
    "y_test = torch.tensor(y_test.values, dtype=torch.float32)"
   ]
  },
  {
   "cell_type": "code",
   "execution_count": 23,
   "metadata": {},
   "outputs": [
    {
     "name": "stdout",
     "output_type": "stream",
     "text": [
      "torch.Size([64, 10]) torch.Size([64])\n"
     ]
    }
   ],
   "source": [
    "# data loader\n",
    "train_dataset = torch.utils.data.TensorDataset(X_train, y_train)\n",
    "train_loader = torch.utils.data.DataLoader(train_dataset, batch_size=64, shuffle=True)\n",
    "\n",
    "test_dataset = torch.utils.data.TensorDataset(X_test, y_test)\n",
    "test_loader = torch.utils.data.DataLoader(test_dataset, batch_size=64, shuffle=False)\n",
    "\n",
    "for x, y in train_loader:\n",
    "    print(x.shape, y.shape)\n",
    "    break"
   ]
  },
  {
   "cell_type": "code",
   "execution_count": 24,
   "metadata": {},
   "outputs": [
    {
     "name": "stdout",
     "output_type": "stream",
     "text": [
      "cuda:0\n"
     ]
    }
   ],
   "source": [
    "# build the network\n",
    "device = torch.device('cuda:0' if torch.cuda.is_available() else 'cpu')\n",
    "print(device)\n",
    "\n",
    "class ANN(nn.Module):\n",
    "    def __init__(self, in_features=10, hidden1=128, hidden2=64, hidden3=32, out_features=1):\n",
    "        super(ANN, self).__init__()\n",
    "        # Increase the complexity by adding more layers and more neurons in each layer\n",
    "        self.fc1 = nn.Linear(in_features, hidden1) \n",
    "        self.bn1 = nn.BatchNorm1d(hidden1)  # Batch normalization\n",
    "        self.fc2 = nn.Linear(hidden1, hidden2)\n",
    "        self.bn2 = nn.BatchNorm1d(hidden2)  # Batch normalization\n",
    "        self.fc3 = nn.Linear(hidden2, hidden3)\n",
    "        self.dropout = nn.Dropout(0.3)  # Dropout for regularization\n",
    "        self.out = nn.Linear(hidden3, out_features)\n",
    "\n",
    "    def forward(self, x):\n",
    "        x = F.relu(self.bn1(self.fc1(x)))\n",
    "        x = F.relu(self.bn2(self.fc2(x)))\n",
    "        x = self.dropout(x)  # Apply dropout\n",
    "        x = F.relu(self.fc3(x))\n",
    "        x = self.out(x)\n",
    "        return x\n",
    "\n",
    "# Neural Network Model\n",
    "# class ANN(nn.Module):\n",
    "#     def __init__(self):\n",
    "#         super(ANN, self).__init__()\n",
    "#         self.fc1 = nn.Linear(10, 64)  # 10 features\n",
    "#         self.fc2 = nn.Linear(64, 64)\n",
    "#         self.fc3 = nn.Linear(64, 1)   # Predicting a single value\n",
    "\n",
    "#     def forward(self, x):\n",
    "#         x = torch.relu(self.fc1(x))\n",
    "#         x = torch.relu(self.fc2(x))\n",
    "#         x = self.fc3(x)\n",
    "#         return x"
   ]
  },
  {
   "cell_type": "code",
   "execution_count": 25,
   "metadata": {},
   "outputs": [
    {
     "name": "stdout",
     "output_type": "stream",
     "text": [
      "ANN(\n",
      "  (fc1): Linear(in_features=10, out_features=128, bias=True)\n",
      "  (bn1): BatchNorm1d(128, eps=1e-05, momentum=0.1, affine=True, track_running_stats=True)\n",
      "  (fc2): Linear(in_features=128, out_features=64, bias=True)\n",
      "  (bn2): BatchNorm1d(64, eps=1e-05, momentum=0.1, affine=True, track_running_stats=True)\n",
      "  (fc3): Linear(in_features=64, out_features=32, bias=True)\n",
      "  (dropout): Dropout(p=0.3, inplace=False)\n",
      "  (out): Linear(in_features=32, out_features=1, bias=True)\n",
      ")\n"
     ]
    }
   ],
   "source": [
    "# setting of the network\n",
    "torch.manual_seed(42)\n",
    "model = ANN()\n",
    "model.to(device)\n",
    "print(model)\n",
    "\n",
    "# loss function and optimizer\n",
    "criterion = nn.MSELoss()\n",
    "optimizer = optim.Adam(model.parameters(), lr=0.001, weight_decay=0.0001)\n",
    "# optimizer = optim.SGD(model.parameters(), lr=0.001, momentum=0.9)\n",
    "scheduler = optim.lr_scheduler.StepLR(optimizer, step_size=50, gamma=0.5)\n",
    "epochs = 100"
   ]
  },
  {
   "cell_type": "code",
   "execution_count": 26,
   "metadata": {},
   "outputs": [],
   "source": [
    "# train function\n",
    "def train(model, opt, criterion, train_loader, test_loader, epochs):\n",
    "    train_losses = np.zeros(epochs)\n",
    "    test_losses = np.zeros(epochs)\n",
    "    model.train()\n",
    "    for i in range(epochs):\n",
    "        train_loss = []\n",
    "        for inputs, targets in train_loader:\n",
    "            inputs, targets = inputs.to(device), targets.to(device)\n",
    "            # zero the parameter gradients\n",
    "            opt.zero_grad()\n",
    "            # forward + backward + optimize\n",
    "            outputs = model(inputs)\n",
    "            loss = criterion(outputs, targets)\n",
    "            loss.backward()\n",
    "            opt.step()\n",
    "            train_loss.append(loss.item())\n",
    "        train_loss = np.mean(train_loss)\n",
    "        test_loss = []\n",
    "        model.eval()\n",
    "        for inputs, targets in test_loader:\n",
    "            inputs, targets = inputs.to(device), targets.to(device)\n",
    "            outputs = model(inputs)\n",
    "            loss = criterion(outputs, targets)\n",
    "            test_loss.append(loss.item())\n",
    "        test_loss = np.mean(test_loss)\n",
    "        # save losses\n",
    "        train_losses[i] = train_loss\n",
    "        test_losses[i] = test_loss\n",
    "        # scheduler.step()\n",
    "        print(f'Epoch {i+1}/{epochs}, Train Loss: {train_loss:.4f}, Test Loss: {test_loss:.4f}')\n",
    "    return train_losses, test_losses"
   ]
  },
  {
   "cell_type": "code",
   "execution_count": 27,
   "metadata": {},
   "outputs": [
    {
     "name": "stdout",
     "output_type": "stream",
     "text": [
      "Epoch 1/100, Train Loss: 0.3932, Test Loss: 0.4856\n",
      "Epoch 2/100, Train Loss: 0.3402, Test Loss: 0.1507\n",
      "Epoch 3/100, Train Loss: 0.0568, Test Loss: 0.0709\n",
      "Epoch 4/100, Train Loss: 0.0701, Test Loss: 0.0170\n",
      "Epoch 5/100, Train Loss: 0.0236, Test Loss: 0.0424\n",
      "Epoch 6/100, Train Loss: 0.0266, Test Loss: 0.0185\n",
      "Epoch 7/100, Train Loss: 0.0146, Test Loss: 0.0186\n",
      "Epoch 8/100, Train Loss: 0.0148, Test Loss: 0.0155\n"
     ]
    },
    {
     "name": "stderr",
     "output_type": "stream",
     "text": [
      "d:\\anaconda\\envs\\pytorch\\lib\\site-packages\\torch\\nn\\modules\\loss.py:536: UserWarning: Using a target size (torch.Size([64])) that is different to the input size (torch.Size([64, 1])). This will likely lead to incorrect results due to broadcasting. Please ensure they have the same size.\n",
      "  return F.mse_loss(input, target, reduction=self.reduction)\n",
      "d:\\anaconda\\envs\\pytorch\\lib\\site-packages\\torch\\nn\\modules\\loss.py:536: UserWarning: Using a target size (torch.Size([16])) that is different to the input size (torch.Size([16, 1])). This will likely lead to incorrect results due to broadcasting. Please ensure they have the same size.\n",
      "  return F.mse_loss(input, target, reduction=self.reduction)\n",
      "d:\\anaconda\\envs\\pytorch\\lib\\site-packages\\torch\\nn\\modules\\loss.py:536: UserWarning: Using a target size (torch.Size([36])) that is different to the input size (torch.Size([36, 1])). This will likely lead to incorrect results due to broadcasting. Please ensure they have the same size.\n",
      "  return F.mse_loss(input, target, reduction=self.reduction)\n"
     ]
    },
    {
     "name": "stdout",
     "output_type": "stream",
     "text": [
      "Epoch 9/100, Train Loss: 0.0120, Test Loss: 0.0176\n",
      "Epoch 10/100, Train Loss: 0.0108, Test Loss: 0.0137\n",
      "Epoch 11/100, Train Loss: 0.0105, Test Loss: 0.0130\n",
      "Epoch 12/100, Train Loss: 0.0089, Test Loss: 0.0134\n",
      "Epoch 13/100, Train Loss: 0.0084, Test Loss: 0.0122\n",
      "Epoch 14/100, Train Loss: 0.0078, Test Loss: 0.0116\n",
      "Epoch 15/100, Train Loss: 0.0075, Test Loss: 0.0119\n",
      "Epoch 16/100, Train Loss: 0.0073, Test Loss: 0.0114\n",
      "Epoch 17/100, Train Loss: 0.0067, Test Loss: 0.0109\n",
      "Epoch 18/100, Train Loss: 0.0068, Test Loss: 0.0105\n",
      "Epoch 19/100, Train Loss: 0.0065, Test Loss: 0.0104\n",
      "Epoch 20/100, Train Loss: 0.0057, Test Loss: 0.0098\n",
      "Epoch 21/100, Train Loss: 0.0056, Test Loss: 0.0096\n",
      "Epoch 22/100, Train Loss: 0.0053, Test Loss: 0.0088\n",
      "Epoch 23/100, Train Loss: 0.0050, Test Loss: 0.0087\n",
      "Epoch 24/100, Train Loss: 0.0050, Test Loss: 0.0083\n",
      "Epoch 25/100, Train Loss: 0.0052, Test Loss: 0.0085\n",
      "Epoch 26/100, Train Loss: 0.0048, Test Loss: 0.0081\n",
      "Epoch 27/100, Train Loss: 0.0042, Test Loss: 0.0078\n",
      "Epoch 28/100, Train Loss: 0.0041, Test Loss: 0.0079\n",
      "Epoch 29/100, Train Loss: 0.0041, Test Loss: 0.0072\n",
      "Epoch 30/100, Train Loss: 0.0040, Test Loss: 0.0070\n",
      "Epoch 31/100, Train Loss: 0.0038, Test Loss: 0.0067\n",
      "Epoch 32/100, Train Loss: 0.0036, Test Loss: 0.0065\n",
      "Epoch 33/100, Train Loss: 0.0033, Test Loss: 0.0064\n",
      "Epoch 34/100, Train Loss: 0.0034, Test Loss: 0.0062\n",
      "Epoch 35/100, Train Loss: 0.0032, Test Loss: 0.0061\n",
      "Epoch 36/100, Train Loss: 0.0031, Test Loss: 0.0058\n",
      "Epoch 37/100, Train Loss: 0.0031, Test Loss: 0.0057\n",
      "Epoch 38/100, Train Loss: 0.0028, Test Loss: 0.0054\n",
      "Epoch 39/100, Train Loss: 0.0029, Test Loss: 0.0052\n",
      "Epoch 40/100, Train Loss: 0.0027, Test Loss: 0.0050\n",
      "Epoch 41/100, Train Loss: 0.0026, Test Loss: 0.0049\n",
      "Epoch 42/100, Train Loss: 0.0026, Test Loss: 0.0049\n",
      "Epoch 43/100, Train Loss: 0.0025, Test Loss: 0.0047\n",
      "Epoch 44/100, Train Loss: 0.0024, Test Loss: 0.0046\n",
      "Epoch 45/100, Train Loss: 0.0025, Test Loss: 0.0046\n",
      "Epoch 46/100, Train Loss: 0.0025, Test Loss: 0.0043\n",
      "Epoch 47/100, Train Loss: 0.0022, Test Loss: 0.0044\n",
      "Epoch 48/100, Train Loss: 0.0022, Test Loss: 0.0041\n",
      "Epoch 49/100, Train Loss: 0.0021, Test Loss: 0.0040\n",
      "Epoch 50/100, Train Loss: 0.0022, Test Loss: 0.0039\n",
      "Epoch 51/100, Train Loss: 0.0021, Test Loss: 0.0039\n",
      "Epoch 52/100, Train Loss: 0.0021, Test Loss: 0.0037\n",
      "Epoch 53/100, Train Loss: 0.0021, Test Loss: 0.0037\n",
      "Epoch 54/100, Train Loss: 0.0021, Test Loss: 0.0034\n",
      "Epoch 55/100, Train Loss: 0.0019, Test Loss: 0.0038\n",
      "Epoch 56/100, Train Loss: 0.0020, Test Loss: 0.0035\n",
      "Epoch 57/100, Train Loss: 0.0019, Test Loss: 0.0034\n",
      "Epoch 58/100, Train Loss: 0.0019, Test Loss: 0.0032\n",
      "Epoch 59/100, Train Loss: 0.0020, Test Loss: 0.0032\n",
      "Epoch 60/100, Train Loss: 0.0021, Test Loss: 0.0033\n",
      "Epoch 61/100, Train Loss: 0.0019, Test Loss: 0.0032\n",
      "Epoch 62/100, Train Loss: 0.0018, Test Loss: 0.0031\n",
      "Epoch 63/100, Train Loss: 0.0018, Test Loss: 0.0032\n",
      "Epoch 64/100, Train Loss: 0.0018, Test Loss: 0.0031\n",
      "Epoch 65/100, Train Loss: 0.0018, Test Loss: 0.0031\n",
      "Epoch 66/100, Train Loss: 0.0018, Test Loss: 0.0030\n",
      "Epoch 67/100, Train Loss: 0.0023, Test Loss: 0.0030\n",
      "Epoch 68/100, Train Loss: 0.0019, Test Loss: 0.0030\n",
      "Epoch 69/100, Train Loss: 0.0018, Test Loss: 0.0031\n",
      "Epoch 70/100, Train Loss: 0.0020, Test Loss: 0.0029\n",
      "Epoch 71/100, Train Loss: 0.0017, Test Loss: 0.0029\n",
      "Epoch 72/100, Train Loss: 0.0017, Test Loss: 0.0029\n",
      "Epoch 73/100, Train Loss: 0.0017, Test Loss: 0.0028\n",
      "Epoch 74/100, Train Loss: 0.0017, Test Loss: 0.0029\n",
      "Epoch 75/100, Train Loss: 0.0016, Test Loss: 0.0027\n",
      "Epoch 76/100, Train Loss: 0.0018, Test Loss: 0.0028\n",
      "Epoch 77/100, Train Loss: 0.0016, Test Loss: 0.0028\n",
      "Epoch 78/100, Train Loss: 0.0017, Test Loss: 0.0028\n",
      "Epoch 79/100, Train Loss: 0.0017, Test Loss: 0.0026\n",
      "Epoch 80/100, Train Loss: 0.0017, Test Loss: 0.0026\n",
      "Epoch 81/100, Train Loss: 0.0017, Test Loss: 0.0027\n",
      "Epoch 82/100, Train Loss: 0.0017, Test Loss: 0.0028\n",
      "Epoch 83/100, Train Loss: 0.0020, Test Loss: 0.0027\n",
      "Epoch 84/100, Train Loss: 0.0017, Test Loss: 0.0025\n",
      "Epoch 85/100, Train Loss: 0.0016, Test Loss: 0.0025\n",
      "Epoch 86/100, Train Loss: 0.0016, Test Loss: 0.0025\n",
      "Epoch 87/100, Train Loss: 0.0016, Test Loss: 0.0024\n",
      "Epoch 88/100, Train Loss: 0.0017, Test Loss: 0.0026\n",
      "Epoch 89/100, Train Loss: 0.0017, Test Loss: 0.0026\n",
      "Epoch 90/100, Train Loss: 0.0017, Test Loss: 0.0024\n",
      "Epoch 91/100, Train Loss: 0.0016, Test Loss: 0.0024\n",
      "Epoch 92/100, Train Loss: 0.0016, Test Loss: 0.0025\n",
      "Epoch 93/100, Train Loss: 0.0016, Test Loss: 0.0024\n",
      "Epoch 94/100, Train Loss: 0.0017, Test Loss: 0.0024\n",
      "Epoch 95/100, Train Loss: 0.0016, Test Loss: 0.0024\n",
      "Epoch 96/100, Train Loss: 0.0017, Test Loss: 0.0024\n",
      "Epoch 97/100, Train Loss: 0.0017, Test Loss: 0.0026\n",
      "Epoch 98/100, Train Loss: 0.0017, Test Loss: 0.0024\n",
      "Epoch 99/100, Train Loss: 0.0017, Test Loss: 0.0023\n",
      "Epoch 100/100, Train Loss: 0.0016, Test Loss: 0.0024\n"
     ]
    }
   ],
   "source": [
    "# train the model\n",
    "train_losses, test_losses = train(model, optimizer, criterion, train_loader, test_loader, epochs)"
   ]
  },
  {
   "cell_type": "code",
   "execution_count": 28,
   "metadata": {},
   "outputs": [
    {
     "name": "stdout",
     "output_type": "stream",
     "text": [
      "[0.39324232 0.34015692 0.05675123 0.07008678 0.02359055 0.02662525\n",
      " 0.01459685 0.01477302 0.01202806 0.01078599 0.01051441 0.00893789\n",
      " 0.00843642 0.0077684  0.00746207 0.00729254 0.00671057 0.00678041\n",
      " 0.00654282 0.00571153 0.00561012 0.00533333 0.00501855 0.00497587\n",
      " 0.00520278 0.00482257 0.00423612 0.00411298 0.00411628 0.00401814\n",
      " 0.00378693 0.00364186 0.00333588 0.0034418  0.00317566 0.00311627\n",
      " 0.00314193 0.00284946 0.00287716 0.00265236 0.00264944 0.00261353\n",
      " 0.00247013 0.00243344 0.00247838 0.00246617 0.00223919 0.00215137\n",
      " 0.00210627 0.00221304 0.00210284 0.00213752 0.00213424 0.00208858\n",
      " 0.00193516 0.00201018 0.00193426 0.00192691 0.00201533 0.00214181\n",
      " 0.00192291 0.00184736 0.0017917  0.00184536 0.00177901 0.00184927\n",
      " 0.0022612  0.00193692 0.0017701  0.00197652 0.00172846 0.00169498\n",
      " 0.00169283 0.00170814 0.00164448 0.00179549 0.00164629 0.00167581\n",
      " 0.00165864 0.00165539 0.00168976 0.00171614 0.00197803 0.00165161\n",
      " 0.00163932 0.00162804 0.00161682 0.00171469 0.0017049  0.00169797\n",
      " 0.00163064 0.00163105 0.00164832 0.00169521 0.00162776 0.0017093\n",
      " 0.00165072 0.00171639 0.00167806 0.00155532]\n",
      "[0.48563266 0.1507486  0.0708815  0.01704319 0.04237567 0.018515\n",
      " 0.01864296 0.01549692 0.01757388 0.01372692 0.01301251 0.01337464\n",
      " 0.01220685 0.01162459 0.0118976  0.01140569 0.0109301  0.01046126\n",
      " 0.01043826 0.00976953 0.00955205 0.0088414  0.00868405 0.00831266\n",
      " 0.00854623 0.00807802 0.00777767 0.00787411 0.00720119 0.00702391\n",
      " 0.00669181 0.00650804 0.00640738 0.00619815 0.00607864 0.00578718\n",
      " 0.00573798 0.00543925 0.00523533 0.00495714 0.00485566 0.00491211\n",
      " 0.00474066 0.00459826 0.00459312 0.0043047  0.00438929 0.00405713\n",
      " 0.00398925 0.00391184 0.003871   0.00372878 0.00367095 0.00343099\n",
      " 0.00378091 0.00349851 0.00336962 0.00322404 0.00322843 0.00330688\n",
      " 0.00321373 0.00310783 0.00319266 0.00314435 0.00305769 0.00299214\n",
      " 0.00295683 0.00298307 0.00306605 0.00288286 0.00293041 0.00286323\n",
      " 0.00284316 0.00286958 0.0027169  0.00275645 0.00276854 0.00279515\n",
      " 0.00261427 0.00259285 0.00274148 0.00276933 0.00269569 0.00254138\n",
      " 0.00251342 0.00251972 0.00244138 0.00257509 0.00259802 0.00243389\n",
      " 0.00241012 0.00245955 0.00241493 0.00243788 0.0024055  0.00235639\n",
      " 0.00256802 0.00240828 0.00234127 0.00240035]\n"
     ]
    },
    {
     "data": {
      "image/png": "[encoded data removed]",
      "text/plain": [
       "<Figure size 640x480 with 1 Axes>"
      ]
     },
     "metadata": {},
     "output_type": "display_data"
    }
   ],
   "source": [
    "print(train_losses)\n",
    "print(test_losses)\n",
    "import matplotlib.pyplot as plt\n",
    "# plot the train loss and test loss per iteration\n",
    "plt.plot(train_losses, label='train loss')\n",
    "plt.plot(test_losses, label='test loss')\n",
    "plt.legend()\n",
    "# save the figure to figures folder\n",
    "plt.savefig('figures/loss.png')\n",
    "plt.show()\n"
   ]
  },
  {
   "cell_type": "code",
   "execution_count": 29,
   "metadata": {},
   "outputs": [
    {
     "name": "stdout",
     "output_type": "stream",
     "text": [
      "Predict is [[0.6695221 ]\n",
      " [0.6607568 ]\n",
      " [0.6834831 ]\n",
      " [0.6601394 ]\n",
      " [0.6373993 ]\n",
      " [0.6290626 ]\n",
      " [0.70060796]\n",
      " [0.62353027]\n",
      " [0.6937419 ]\n",
      " [0.662381  ]\n",
      " [0.65864635]\n",
      " [0.67153126]\n",
      " [0.6775847 ]\n",
      " [0.6430305 ]\n",
      " [0.6742694 ]\n",
      " [0.6823322 ]\n",
      " [0.7309149 ]\n",
      " [0.6645586 ]\n",
      " [0.63440716]\n",
      " [0.7140456 ]\n",
      " [0.6566066 ]\n",
      " [0.73879945]\n",
      " [0.6650671 ]\n",
      " [0.63887006]\n",
      " [0.6907289 ]\n",
      " [0.60219675]\n",
      " [0.66422135]\n",
      " [0.7448128 ]\n",
      " [0.6795473 ]\n",
      " [0.6447229 ]\n",
      " [0.658735  ]\n",
      " [0.6582636 ]\n",
      " [0.6491904 ]\n",
      " [0.6638724 ]\n",
      " [0.6665879 ]\n",
      " [0.7368887 ]\n",
      " [0.7638992 ]\n",
      " [0.74418163]\n",
      " [0.6869433 ]\n",
      " [0.68915945]\n",
      " [0.63228434]\n",
      " [0.6349882 ]\n",
      " [0.6811096 ]\n",
      " [0.69591826]\n",
      " [0.6562249 ]\n",
      " [0.75460136]\n",
      " [0.666962  ]\n",
      " [0.6548787 ]\n",
      " [0.66803634]\n",
      " [0.65560347]\n",
      " [0.66187364]\n",
      " [0.62919766]\n",
      " [0.6532137 ]\n",
      " [0.6191417 ]\n",
      " [0.61941916]\n",
      " [0.663735  ]\n",
      " [0.6839926 ]\n",
      " [0.6761978 ]\n",
      " [0.6765575 ]\n",
      " [0.69402343]\n",
      " [0.636191  ]\n",
      " [0.6701265 ]\n",
      " [0.7023367 ]\n",
      " [0.6810611 ]\n",
      " [0.67275995]\n",
      " [0.6657048 ]\n",
      " [0.7444288 ]\n",
      " [0.59944147]\n",
      " [0.6796183 ]\n",
      " [0.6899583 ]\n",
      " [0.6926504 ]\n",
      " [0.63525003]\n",
      " [0.6920449 ]\n",
      " [0.6973384 ]\n",
      " [0.6788543 ]\n",
      " [0.6649691 ]\n",
      " [0.71232384]\n",
      " [0.635186  ]\n",
      " [0.66346663]\n",
      " [0.6683152 ]\n",
      " [0.6565221 ]\n",
      " [0.6882618 ]\n",
      " [0.669199  ]\n",
      " [0.6977685 ]\n",
      " [0.6335992 ]\n",
      " [0.6703355 ]\n",
      " [0.6141767 ]\n",
      " [0.669769  ]\n",
      " [0.67145175]\n",
      " [0.75196785]\n",
      " [0.66758215]\n",
      " [0.6894089 ]\n",
      " [0.6689925 ]\n",
      " [0.66399556]\n",
      " [0.7121245 ]\n",
      " [0.6413068 ]\n",
      " [0.6991529 ]\n",
      " [0.7029715 ]\n",
      " [0.6280139 ]\n",
      " [0.72796994]]\n",
      "The real is tensor([0.7155, 0.7061, 0.6877, 0.6701, 0.7024, 0.7006, 0.6903, 0.7007, 0.6640,\n",
      "        0.6380, 0.6849, 0.5980, 0.6799, 0.6492, 0.7278, 0.6802, 0.7196, 0.6595,\n",
      "        0.7294, 0.6496, 0.7196, 0.6455, 0.6747, 0.6497, 0.7033, 0.6437, 0.6755,\n",
      "        0.6798, 0.6875, 0.6783, 0.7147, 0.6809, 0.6781, 0.7056, 0.6891, 0.7403,\n",
      "        0.7036, 0.6870, 0.7126, 0.6857, 0.7265, 0.6759, 0.7006, 0.5951, 0.6200,\n",
      "        0.4952, 0.7060, 0.6923, 0.6093, 0.6453, 0.7178, 0.6971, 0.6887, 0.6876,\n",
      "        0.7040, 0.6784, 0.6699, 0.6782, 0.6666, 0.6387, 0.7034, 0.6979, 0.6906,\n",
      "        0.6705, 0.6962, 0.7190, 0.6139, 0.6958, 0.6917, 0.7361, 0.6474, 0.7181,\n",
      "        0.7095, 0.6601, 0.7169, 0.7057, 0.6783, 0.6962, 0.6472, 0.6837, 0.6757,\n",
      "        0.7045, 0.7082, 0.7145, 0.7379, 0.6504, 0.6827, 0.6869, 0.7013, 0.7070,\n",
      "        0.6812, 0.6539, 0.6799, 0.7310, 0.6899, 0.6983, 0.6924, 0.6969, 0.6399,\n",
      "        0.7332])\n"
     ]
    }
   ],
   "source": [
    "from sklearn.metrics import accuracy_score\n",
    "\n",
    "# Assuming model, X_train, X_test, y_train, y_test are already defined\n",
    "# and 'device' is your CUDA device (like torch.device(\"cuda:0\"))\n",
    "\n",
    "with torch.no_grad():\n",
    "    # Move X_train and X_test to the device\n",
    "    X_train = X_train.to(device)\n",
    "    X_test = X_test.to(device)\n",
    "\n",
    "    # Get predictions\n",
    "    p_train = model(X_train)\n",
    "    p_test = model(X_test)\n",
    "\n",
    "    # Move predictions back to CPU and convert to NumPy arrays\n",
    "    p_train = p_train.cpu().numpy()\n",
    "    p_test = p_test.cpu().numpy()\n",
    "    \n",
    "    # save the predictions and actual values to csv\n",
    "    np.savetxt('data/nn_predictions.csv', p_test, delimiter=',')\n",
    "    np.savetxt('data/nn_actual.csv', y_test, delimiter=',')\n",
    "\n",
    "# Print predictions and actual values\n",
    "print('Predict is', p_test)\n",
    "print('The real is', y_test)"
   ]
  },
  {
   "cell_type": "code",
   "execution_count": 30,
   "metadata": {},
   "outputs": [
    {
     "data": {
      "image/png": "[encoded data removed]",
      "text/plain": [
       "<Figure size 640x480 with 1 Axes>"
      ]
     },
     "metadata": {},
     "output_type": "display_data"
    }
   ],
   "source": [
    "# draw the p_test and y_test by scatter plot\n",
    "import matplotlib.pyplot as plt\n",
    "plt.scatter(p_test, y_test)\n",
    "plt.plot([0.5, 0.75], [0.5, 0.75], color='red')\n",
    "plt.xlabel('Actual values')\n",
    "plt.ylabel('Predicted values')\n",
    "plt.title('Predictions vs Actual')\n",
    "# save the figure to figures folder\n",
    "plt.savefig('figures/nn_prediction vs Acutural.png')"
   ]
  },
  {
   "cell_type": "code",
   "execution_count": 31,
   "metadata": {},
   "outputs": [],
   "source": [
    "# save the train and test loss to csv\n",
    "np.savetxt('data/nn_train_losses.csv', train_losses, delimiter=',')\n",
    "np.savetxt('data/nn_test_losses.csv', test_losses, delimiter=',')"
   ]
  },
  {
   "cell_type": "code",
   "execution_count": 32,
   "metadata": {},
   "outputs": [],
   "source": [
    "# save the model to checkpoint folder\n",
    "torch.save(model.state_dict(), 'checkpoint/model1.pth')"
   ]
  }
 ],
 "metadata": {
  "kernelspec": {
   "display_name": "pytorch",
   "language": "python",
   "name": "python3"
  },
  "language_info": {
   "codemirror_mode": {
    "name": "ipython",
    "version": 3
   },
   "file_extension": ".py",
   "mimetype": "text/x-python",
   "name": "python",
   "nbconvert_exporter": "python",
   "pygments_lexer": "ipython3",
   "version": "3.8.16"
  }
 },
 "nbformat": 4,
 "nbformat_minor": 2
}
